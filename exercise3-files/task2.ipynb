{
 "cells": [
  {
   "cell_type": "code",
   "execution_count": 5,
   "metadata": {},
   "outputs": [],
   "source": [
    "from pprint import pprint\n",
    "from DbConnector import DbConnector\n",
    "from tabulate import tabulate"
   ]
  },
  {
   "cell_type": "code",
   "execution_count": 75,
   "metadata": {},
   "outputs": [],
   "source": [
    "class GeolifeQueries:\n",
    "\n",
    "    def __init__(self):\n",
    "        # Set up the database connection\n",
    "        self.connection = DbConnector()\n",
    "        self.client = self.connection.client\n",
    "        self.db = self.connection.db\n",
    "\n",
    "    def print_tables(self):\n",
    "        print(\"Users\")\n",
    "        first_ten_users= list(self.db.User.find().limit(10))\n",
    "\n",
    "        table_data = []\n",
    "\n",
    "        for document in first_ten_users:\n",
    "            table_data.append([\n",
    "                document.get('_id'),      \n",
    "                document.get('has_labels')\n",
    "            ])\n",
    "        headers = ['ID', 'Has Labels']\n",
    "        print(tabulate(table_data, headers=headers, tablefmt='fancy_grid'))\n",
    "        print(\"\\n\")\n",
    "\n",
    "        print(\"Activities\")\n",
    "        first_ten_activities = list(self.db.Activity.find().limit(10))\n",
    "\n",
    "        table_data = []\n",
    "\n",
    "        for document in first_ten_activities:\n",
    "            table_data.append([\n",
    "                document.get('_id'),              \n",
    "                document.get('user_id'), \n",
    "                document.get('transportation_mode'), \n",
    "                document.get('start_date_time').strftime(\"%Y-%m-%d %H:%M:%S\"),\n",
    "                document.get('end_date_time').strftime(\"%Y-%m-%d %H:%M:%S\")\n",
    "                    ])\n",
    "        headers = ['ID', 'UserID', 'Transportation Mode', 'Start Date Time', 'End Date Time']\n",
    "        print(tabulate(table_data, headers=headers, tablefmt='fancy_grid'))\n",
    "        print(\"\\n\")\n",
    "\n",
    "        print(\"Trackpoints\")\n",
    "        first_ten_trackpoints = list(self.db.TrackPoint.find().limit(10))\n",
    "\n",
    "        table_data = []\n",
    "\n",
    "        for document in first_ten_trackpoints:\n",
    "            table_data.append([\n",
    "                document.get('_id'),              \n",
    "                document.get('lat'),              \n",
    "                document.get('lon'),              \n",
    "                document.get('altitude'),         \n",
    "                document.get('date_days'),        \n",
    "                document.get('date_time') \n",
    "            ])\n",
    "        headers = ['ID', 'Latitude', 'Longitude', 'Altitude', 'Date Days', 'Date Time']\n",
    "        print(tabulate(table_data, headers=headers, tablefmt='fancy_grid'))\n",
    "        print(\"\\n\")\n",
    "\n",
    "    def count_users_activities_trackpoints(self):\n",
    "        \"\"\"Task 1: Count users, activities, and trackpoints.\"\"\"\n",
    "        print(\"Task 1\")\n",
    "        num_users = self.db.User.count_documents({})\n",
    "        num_activities = self.db.Activity.count_documents({})\n",
    "        num_trackpoints = self.db.TrackPoint.count_documents({})\n",
    "        print(f\"Users: {num_users}\\nActivities: {num_activities}\\nTrackpoints: {num_trackpoints}\")\n",
    "\n",
    "    def average_activities_per_user(self):\n",
    "        \"\"\"Task 2: Find the average number of activities per user.\"\"\"\n",
    "        print(\"Task 2\")\n",
    "        num_activities = self.db.Activity.count_documents({})\n",
    "        num_users = self.db.User.count_documents({})\n",
    "        avg_activities = num_activities / num_users if num_users != 0 else 0\n",
    "        print(f\"Average activities per user: {avg_activities:.2f}\")\n",
    "\n",
    "    def top_20_users_by_activities(self):\n",
    "        \"\"\"Task 3: Find the top 20 users with the highest number of activities.\"\"\"\n",
    "        print(\"Task 3\")\n",
    "        pipeline = [\n",
    "            {\"$group\": {\"_id\": \"$user_id\", \"activity_count\": {\"$sum\": 1}}},\n",
    "            {\"$sort\": {\"activity_count\": -1}},\n",
    "            {\"$limit\": 20}\n",
    "        ]\n",
    "        top_users = self.db.Activity.aggregate(pipeline)\n",
    "\n",
    "        # Prepare data for tabulate\n",
    "        table_data = []\n",
    "        for user in top_users:\n",
    "            table_data.append([user['_id'], user['activity_count']])\n",
    "        \n",
    "        # Print the table with the fancy_grid format\n",
    "        print(tabulate(table_data, headers=[\"ID\", \"Activity Count\"], tablefmt=\"grid\"))\n",
    "    \n",
    "    def users_who_took_taxi(self):\n",
    "        \"\"\"Task 4: Find and print all users who have taken a taxi.\"\"\"\n",
    "        print(\"Task 4\")\n",
    "        \n",
    "        # Query to find documents where transportation_mode is \"taxi\"\n",
    "        documents = self.db.Activity.find({\"transportation_mode\": \"taxi\"}, {\"user_id\": 1, \"_id\": 0})\n",
    "        \n",
    "        # Set to hold unique user IDs\n",
    "        taxi_users = set()\n",
    "        \n",
    "        # Loop through the documents and add user_ids to the set\n",
    "        for doc in documents:\n",
    "            taxi_users.add(doc[\"user_id\"])\n",
    "\n",
    "        sorted_taxi_users = sorted(taxi_users)\n",
    "        \n",
    "        # Print the unique user_ids\n",
    "        print(tabulate([[user_id] for user_id in sorted_taxi_users], headers=[\"User ID\"], tablefmt=\"fancy_grid\"))\n",
    "\n",
    "\n",
    "    def count_transportation_modes(self):\n",
    "        \"\"\"Task 5: Count activities with each transportation mode.\"\"\"\n",
    "        print(\"Task 5\")\n",
    "        pipeline = [\n",
    "            {\"$match\": {\"transportation_mode\": {\"$ne\": None}}},\n",
    "            {\"$group\": {\"_id\": \"$transportation_mode\", \"count\": {\"$sum\": 1}}},\n",
    "            {\"$sort\": {\"count\": -1}}\n",
    "        ]\n",
    "        transport_modes = self.db.Activity.aggregate(pipeline)\n",
    "\n",
    "        table_data = []\n",
    "        for mode in transport_modes:\n",
    "            table_data.append([mode['_id'], mode['count']])\n",
    "    \n",
    "        print(tabulate(table_data, headers=[\"Transportation Mode\", \"Count\"], tablefmt=\"fancy_grid\"))\n",
    "        \n",
    "    def users_in_forbidden_city(self):\n",
    "        \"\"\"Task 10: Find users who have tracked activity in the Forbidden City of Beijing.\"\"\"\n",
    "        print(\"Task 10\")\n",
    "        forbidden_city_coords = {\"lat\": 39.916, \"lon\": 116.397}\n",
    "        pipeline = [\n",
    "            {\"$unwind\": \"$trackpoints\"},\n",
    "            {\"$match\": {\n",
    "                \"trackpoints.lat\": forbidden_city_coords[\"lat\"],\n",
    "                \"trackpoints.lon\": forbidden_city_coords[\"lon\"]\n",
    "            }},\n",
    "            {\"$group\": {\"_id\": \"$user_id\"}}\n",
    "        ]\n",
    "        users = self.db.Activity.aggregate(pipeline)\n",
    "        print(list(users))\n",
    "\n",
    "    def task10(self):\n",
    "        print(\"\\n_________TASK 10: Users with activities in the Forbidden City_________\")\n",
    "\n",
    "        # Query to find users who have done activities in the Forbidden City\n",
    "        forbidden_city_query = {\n",
    "            \"lat\": {\"$gte\": 39.915, \"$lte\": 39.917},\n",
    "            \"lon\": {\"$gte\": 116.396, \"$lte\": 116.398}\n",
    "        }\n",
    "\n",
    "        # Aggregation to get distinct user_ids who have trackpoints in Forbidden City\n",
    "        pipeline = [\n",
    "            {\"$match\": forbidden_city_query},  # Match trackpoints within the Forbidden City coordinates\n",
    "            {\"$lookup\": {\n",
    "                \"from\": \"activities\",  # Join with activities collection\n",
    "                \"localField\": \"activity_id\",\n",
    "                \"foreignField\": \"_id\",\n",
    "                \"as\": \"activity_info\"\n",
    "            }},\n",
    "            {\"$unwind\": \"$activity_info\"},  # Unwind the joined activities array\n",
    "            {\"$group\": {\"_id\": \"$activity_info.user_id\"}},  # Group by user_id to get distinct users\n",
    "        ]\n",
    "\n",
    "        # Run the aggregation pipeline\n",
    "        rows = list(self.db.trackpoints.aggregate(pipeline))\n",
    "\n",
    "        if rows:\n",
    "            # Format the output for display\n",
    "            users = [{\"User ID\": row[\"_id\"]} for row in rows]\n",
    "            print(f\"Users who have tracked an activity in the Forbidden City:\")\n",
    "            print(tabulate(users, headers=\"keys\", tablefmt=\"fancy_grid\"))\n",
    "        else:\n",
    "            print(\"No users found with activities in the Forbidden City.\")\n",
    "        \n",
    "\n",
    "    def close(self):\n",
    "        \"\"\"Close the database connection.\"\"\"\n",
    "        self.connection.close_connection()"
   ]
  },
  {
   "cell_type": "code",
   "execution_count": 76,
   "metadata": {},
   "outputs": [
    {
     "name": "stdout",
     "output_type": "stream",
     "text": [
      "You are connected to the database: my_db\n",
      "-----------------------------------------------\n",
      "\n"
     ]
    }
   ],
   "source": [
    "program = GeolifeQueries()"
   ]
  },
  {
   "cell_type": "code",
   "execution_count": 61,
   "metadata": {},
   "outputs": [
    {
     "name": "stdout",
     "output_type": "stream",
     "text": [
      "Users\n",
      "╒══════╤══════════════╕\n",
      "│   ID │ Has Labels   │\n",
      "╞══════╪══════════════╡\n",
      "│  135 │ False        │\n",
      "├──────┼──────────────┤\n",
      "│  132 │ False        │\n",
      "├──────┼──────────────┤\n",
      "│  104 │ True         │\n",
      "├──────┼──────────────┤\n",
      "│  103 │ False        │\n",
      "├──────┼──────────────┤\n",
      "│  168 │ False        │\n",
      "├──────┼──────────────┤\n",
      "│  157 │ False        │\n",
      "├──────┼──────────────┤\n",
      "│  150 │ False        │\n",
      "├──────┼──────────────┤\n",
      "│  159 │ False        │\n",
      "├──────┼──────────────┤\n",
      "│  166 │ False        │\n",
      "├──────┼──────────────┤\n",
      "│  161 │ True         │\n",
      "╘══════╧══════════════╛\n",
      "\n",
      "\n",
      "Activities\n",
      "╒══════════════════════════╤══════════╤═══════════════════════╤═════════════════════╤═════════════════════╕\n",
      "│ ID                       │   UserID │ Transportation Mode   │ Start Date Time     │ End Date Time       │\n",
      "╞══════════════════════════╪══════════╪═══════════════════════╪═════════════════════╪═════════════════════╡\n",
      "│ 671783e2bd276b58f6b2ca82 │      135 │                       │ 2009-01-03 01:21:34 │ 2009-01-03 05:40:31 │\n",
      "├──────────────────────────┼──────────┼───────────────────────┼─────────────────────┼─────────────────────┤\n",
      "│ 671783e2bd276b58f6b2d3da │      135 │                       │ 2009-01-02 04:31:27 │ 2009-01-02 04:41:05 │\n",
      "├──────────────────────────┼──────────┼───────────────────────┼─────────────────────┼─────────────────────┤\n",
      "│ 671783e3bd276b58f6b2d426 │      135 │                       │ 2009-01-27 03:00:04 │ 2009-01-27 04:50:32 │\n",
      "├──────────────────────────┼──────────┼───────────────────────┼─────────────────────┼─────────────────────┤\n",
      "│ 671783e3bd276b58f6b2d813 │      135 │                       │ 2009-01-10 01:19:47 │ 2009-01-10 04:42:47 │\n",
      "├──────────────────────────┼──────────┼───────────────────────┼─────────────────────┼─────────────────────┤\n",
      "│ 671783e3bd276b58f6b2ded6 │      135 │                       │ 2009-01-14 12:17:57 │ 2009-01-14 12:30:53 │\n",
      "├──────────────────────────┼──────────┼───────────────────────┼─────────────────────┼─────────────────────┤\n",
      "│ 671783e3bd276b58f6b2e14b │      135 │                       │ 2009-01-12 01:41:22 │ 2009-01-12 02:14:01 │\n",
      "├──────────────────────────┼──────────┼───────────────────────┼─────────────────────┼─────────────────────┤\n",
      "│ 671783e3bd276b58f6b2e25c │      135 │                       │ 2008-12-24 14:42:07 │ 2008-12-24 15:26:45 │\n",
      "├──────────────────────────┼──────────┼───────────────────────┼─────────────────────┼─────────────────────┤\n",
      "│ 671783e3bd276b58f6b2e4dd │      135 │                       │ 2008-12-28 10:36:05 │ 2008-12-28 12:19:32 │\n",
      "├──────────────────────────┼──────────┼───────────────────────┼─────────────────────┼─────────────────────┤\n",
      "│ 671783e3bd276b58f6b2e90e │      132 │                       │ 2010-02-15 10:56:35 │ 2010-02-15 12:22:33 │\n",
      "├──────────────────────────┼──────────┼───────────────────────┼─────────────────────┼─────────────────────┤\n",
      "│ 671783e3bd276b58f6b2f156 │      132 │                       │ 2010-04-30 23:38:01 │ 2010-05-01 00:35:31 │\n",
      "╘══════════════════════════╧══════════╧═══════════════════════╧═════════════════════╧═════════════════════╛\n",
      "\n",
      "\n",
      "Trackpoints\n",
      "╒══════════════════════════╤════════════╤═════════════╤════════════╤═════════════╤═════════════════════╕\n",
      "│ ID                       │   Latitude │   Longitude │   Altitude │   Date Days │ Date Time           │\n",
      "╞══════════════════════════╪════════════╪═════════════╪════════════╪═════════════╪═════════════════════╡\n",
      "│ 671783e2bd276b58f6b2ca83 │    39.9743 │       116.4 │        492 │     39816.1 │ 2009-01-03 01:21:34 │\n",
      "├──────────────────────────┼────────────┼─────────────┼────────────┼─────────────┼─────────────────────┤\n",
      "│ 671783e2bd276b58f6b2ca84 │    39.9743 │       116.4 │        492 │     39816.1 │ 2009-01-03 01:21:35 │\n",
      "├──────────────────────────┼────────────┼─────────────┼────────────┼─────────────┼─────────────────────┤\n",
      "│ 671783e2bd276b58f6b2ca85 │    39.9743 │       116.4 │        492 │     39816.1 │ 2009-01-03 01:21:36 │\n",
      "├──────────────────────────┼────────────┼─────────────┼────────────┼─────────────┼─────────────────────┤\n",
      "│ 671783e2bd276b58f6b2ca86 │    39.9743 │       116.4 │        492 │     39816.1 │ 2009-01-03 01:21:38 │\n",
      "├──────────────────────────┼────────────┼─────────────┼────────────┼─────────────┼─────────────────────┤\n",
      "│ 671783e2bd276b58f6b2ca87 │    39.9744 │       116.4 │        491 │     39816.1 │ 2009-01-03 01:21:39 │\n",
      "├──────────────────────────┼────────────┼─────────────┼────────────┼─────────────┼─────────────────────┤\n",
      "│ 671783e2bd276b58f6b2ca88 │    39.9744 │       116.4 │        491 │     39816.1 │ 2009-01-03 01:21:42 │\n",
      "├──────────────────────────┼────────────┼─────────────┼────────────┼─────────────┼─────────────────────┤\n",
      "│ 671783e2bd276b58f6b2ca89 │    39.9744 │       116.4 │        491 │     39816.1 │ 2009-01-03 01:21:46 │\n",
      "├──────────────────────────┼────────────┼─────────────┼────────────┼─────────────┼─────────────────────┤\n",
      "│ 671783e2bd276b58f6b2ca8a │    39.9745 │       116.4 │        491 │     39816.1 │ 2009-01-03 01:21:51 │\n",
      "├──────────────────────────┼────────────┼─────────────┼────────────┼─────────────┼─────────────────────┤\n",
      "│ 671783e2bd276b58f6b2ca8b │    39.9745 │       116.4 │        490 │     39816.1 │ 2009-01-03 01:21:56 │\n",
      "├──────────────────────────┼────────────┼─────────────┼────────────┼─────────────┼─────────────────────┤\n",
      "│ 671783e2bd276b58f6b2ca8c │    39.9745 │       116.4 │        489 │     39816.1 │ 2009-01-03 01:22:01 │\n",
      "╘══════════════════════════╧════════════╧═════════════╧════════════╧═════════════╧═════════════════════╛\n",
      "\n",
      "\n"
     ]
    }
   ],
   "source": [
    "# Part 1. Printing the top ten lines of each table\n",
    "program.print_tables()"
   ]
  },
  {
   "cell_type": "code",
   "execution_count": 9,
   "metadata": {},
   "outputs": [
    {
     "name": "stdout",
     "output_type": "stream",
     "text": [
      "Task 1\n",
      "Users: 182\n",
      "Activities: 16048\n",
      "Trackpoints: 9681756\n"
     ]
    }
   ],
   "source": [
    "program.count_users_activities_trackpoints()\n"
   ]
  },
  {
   "cell_type": "code",
   "execution_count": 13,
   "metadata": {},
   "outputs": [
    {
     "name": "stdout",
     "output_type": "stream",
     "text": [
      "Task 2\n",
      "Average activities per user: 88.18\n"
     ]
    }
   ],
   "source": [
    "program.average_activities_per_user()"
   ]
  },
  {
   "cell_type": "code",
   "execution_count": 19,
   "metadata": {},
   "outputs": [
    {
     "name": "stdout",
     "output_type": "stream",
     "text": [
      "Task 3\n",
      "+------+------------------+\n",
      "|   ID |   Activity Count |\n",
      "+======+==================+\n",
      "|  128 |             2102 |\n",
      "+------+------------------+\n",
      "|  153 |             1793 |\n",
      "+------+------------------+\n",
      "|  025 |              715 |\n",
      "+------+------------------+\n",
      "|  163 |              704 |\n",
      "+------+------------------+\n",
      "|  062 |              691 |\n",
      "+------+------------------+\n",
      "|  144 |              563 |\n",
      "+------+------------------+\n",
      "|  041 |              399 |\n",
      "+------+------------------+\n",
      "|  085 |              364 |\n",
      "+------+------------------+\n",
      "|  004 |              346 |\n",
      "+------+------------------+\n",
      "|  140 |              345 |\n",
      "+------+------------------+\n",
      "|  167 |              320 |\n",
      "+------+------------------+\n",
      "|  068 |              280 |\n",
      "+------+------------------+\n",
      "|  017 |              265 |\n",
      "+------+------------------+\n",
      "|  003 |              261 |\n",
      "+------+------------------+\n",
      "|  014 |              236 |\n",
      "+------+------------------+\n",
      "|  126 |              215 |\n",
      "+------+------------------+\n",
      "|  030 |              210 |\n",
      "+------+------------------+\n",
      "|  112 |              208 |\n",
      "+------+------------------+\n",
      "|  011 |              201 |\n",
      "+------+------------------+\n",
      "|  039 |              198 |\n",
      "+------+------------------+\n"
     ]
    }
   ],
   "source": [
    "program.top_20_users_by_activities()\n",
    "\n"
   ]
  },
  {
   "cell_type": "code",
   "execution_count": 39,
   "metadata": {},
   "outputs": [
    {
     "name": "stdout",
     "output_type": "stream",
     "text": [
      "Task 4\n",
      "╒═══════════╕\n",
      "│   User ID │\n",
      "╞═══════════╡\n",
      "│       010 │\n",
      "├───────────┤\n",
      "│       058 │\n",
      "├───────────┤\n",
      "│       062 │\n",
      "├───────────┤\n",
      "│       078 │\n",
      "├───────────┤\n",
      "│       080 │\n",
      "├───────────┤\n",
      "│       085 │\n",
      "├───────────┤\n",
      "│       098 │\n",
      "├───────────┤\n",
      "│       111 │\n",
      "├───────────┤\n",
      "│       128 │\n",
      "├───────────┤\n",
      "│       163 │\n",
      "╘═══════════╛\n"
     ]
    }
   ],
   "source": [
    "program.users_who_took_taxi()\n"
   ]
  },
  {
   "cell_type": "code",
   "execution_count": 40,
   "metadata": {},
   "outputs": [
    {
     "name": "stdout",
     "output_type": "stream",
     "text": [
      "Task 5\n",
      "╒═══════════════════════╤═════════╕\n",
      "│ Transportation Mode   │   Count │\n",
      "╞═══════════════════════╪═════════╡\n",
      "│ walk                  │     480 │\n",
      "├───────────────────────┼─────────┤\n",
      "│ car                   │     419 │\n",
      "├───────────────────────┼─────────┤\n",
      "│ bike                  │     263 │\n",
      "├───────────────────────┼─────────┤\n",
      "│ bus                   │     199 │\n",
      "├───────────────────────┼─────────┤\n",
      "│ subway                │     133 │\n",
      "├───────────────────────┼─────────┤\n",
      "│ taxi                  │      37 │\n",
      "├───────────────────────┼─────────┤\n",
      "│ airplane              │       3 │\n",
      "├───────────────────────┼─────────┤\n",
      "│ train                 │       2 │\n",
      "├───────────────────────┼─────────┤\n",
      "│ boat                  │       1 │\n",
      "├───────────────────────┼─────────┤\n",
      "│ run                   │       1 │\n",
      "╘═══════════════════════╧═════════╛\n"
     ]
    }
   ],
   "source": [
    "# Doesnt work as all transportation modes are ''\n",
    "program.count_transportation_modes()\n"
   ]
  },
  {
   "cell_type": "code",
   "execution_count": 67,
   "metadata": {},
   "outputs": [
    {
     "name": "stdout",
     "output_type": "stream",
     "text": [
      "Task 6a\n"
     ]
    },
    {
     "ename": "OperationFailure",
     "evalue": "Failed to optimize pipeline :: caused by :: can't convert from BSON type string to Date, full error: {'ok': 0.0, 'errmsg': \"Failed to optimize pipeline :: caused by :: can't convert from BSON type string to Date\", 'code': 16006, 'codeName': 'Location16006'}",
     "output_type": "error",
     "traceback": [
      "\u001b[0;31m---------------------------------------------------------------------------\u001b[0m",
      "\u001b[0;31mOperationFailure\u001b[0m                          Traceback (most recent call last)",
      "Cell \u001b[0;32mIn[67], line 1\u001b[0m\n\u001b[0;32m----> 1\u001b[0m \u001b[43mprogram\u001b[49m\u001b[38;5;241;43m.\u001b[39;49m\u001b[43myear_with_most_activities\u001b[49m\u001b[43m(\u001b[49m\u001b[43m)\u001b[49m\n",
      "Cell \u001b[0;32mIn[65], line 139\u001b[0m, in \u001b[0;36mGeolifeQueries.year_with_most_activities\u001b[0;34m(self)\u001b[0m\n\u001b[1;32m    132\u001b[0m pipeline \u001b[38;5;241m=\u001b[39m [\n\u001b[1;32m    133\u001b[0m     {\u001b[38;5;124m\"\u001b[39m\u001b[38;5;124m$group\u001b[39m\u001b[38;5;124m\"\u001b[39m: {\u001b[38;5;124m\"\u001b[39m\u001b[38;5;124m_id\u001b[39m\u001b[38;5;124m\"\u001b[39m: {\u001b[38;5;124m\"\u001b[39m\u001b[38;5;124m$year\u001b[39m\u001b[38;5;124m\"\u001b[39m: \u001b[38;5;124m\"\u001b[39m\u001b[38;5;124mstart_date_time\u001b[39m\u001b[38;5;124m\"\u001b[39m}, \u001b[38;5;124m\"\u001b[39m\u001b[38;5;124mactivity_count\u001b[39m\u001b[38;5;124m\"\u001b[39m: {\u001b[38;5;124m\"\u001b[39m\u001b[38;5;124m$sum\u001b[39m\u001b[38;5;124m\"\u001b[39m: \u001b[38;5;241m1\u001b[39m}}},\n\u001b[1;32m    134\u001b[0m     {\u001b[38;5;124m\"\u001b[39m\u001b[38;5;124m$sort\u001b[39m\u001b[38;5;124m\"\u001b[39m: {\u001b[38;5;124m\"\u001b[39m\u001b[38;5;124mactivity_count\u001b[39m\u001b[38;5;124m\"\u001b[39m: \u001b[38;5;241m-\u001b[39m\u001b[38;5;241m1\u001b[39m}},\n\u001b[1;32m    135\u001b[0m     {\u001b[38;5;124m\"\u001b[39m\u001b[38;5;124m$limit\u001b[39m\u001b[38;5;124m\"\u001b[39m: \u001b[38;5;241m1\u001b[39m}\n\u001b[1;32m    136\u001b[0m ]\n\u001b[1;32m    138\u001b[0m \u001b[38;5;66;03m# Execute the pipeline\u001b[39;00m\n\u001b[0;32m--> 139\u001b[0m result \u001b[38;5;241m=\u001b[39m \u001b[38;5;28mlist\u001b[39m(\u001b[38;5;28;43mself\u001b[39;49m\u001b[38;5;241;43m.\u001b[39;49m\u001b[43mdb\u001b[49m\u001b[38;5;241;43m.\u001b[39;49m\u001b[43mActivities\u001b[49m\u001b[38;5;241;43m.\u001b[39;49m\u001b[43maggregate\u001b[49m\u001b[43m(\u001b[49m\u001b[43mpipeline\u001b[49m\u001b[43m)\u001b[49m)\n\u001b[1;32m    141\u001b[0m \u001b[38;5;66;03m# Check if we got a result and print the year with the most activities\u001b[39;00m\n\u001b[1;32m    142\u001b[0m \u001b[38;5;28;01mif\u001b[39;00m result:\n",
      "File \u001b[0;32m~/opt/anaconda3/envs/py310/lib/python3.10/site-packages/pymongo/synchronous/collection.py:2958\u001b[0m, in \u001b[0;36mCollection.aggregate\u001b[0;34m(self, pipeline, session, let, comment, **kwargs)\u001b[0m\n\u001b[1;32m   <a href='file:///Users/nicolai/opt/anaconda3/envs/py310/lib/python3.10/site-packages/pymongo/synchronous/collection.py?line=2881'>2882</a>\u001b[0m \u001b[39m\u001b[39m\u001b[39m\"\"\"Perform an aggregation using the aggregation framework on this\u001b[39;00m\n\u001b[1;32m   <a href='file:///Users/nicolai/opt/anaconda3/envs/py310/lib/python3.10/site-packages/pymongo/synchronous/collection.py?line=2882'>2883</a>\u001b[0m \u001b[39mcollection.\u001b[39;00m\n\u001b[1;32m   <a href='file:///Users/nicolai/opt/anaconda3/envs/py310/lib/python3.10/site-packages/pymongo/synchronous/collection.py?line=2883'>2884</a>\u001b[0m \n\u001b[0;32m   (...)\u001b[0m\n\u001b[1;32m   <a href='file:///Users/nicolai/opt/anaconda3/envs/py310/lib/python3.10/site-packages/pymongo/synchronous/collection.py?line=2954'>2955</a>\u001b[0m \u001b[39m    https://mongodb.com/docs/manual/reference/command/aggregate\u001b[39;00m\n\u001b[1;32m   <a href='file:///Users/nicolai/opt/anaconda3/envs/py310/lib/python3.10/site-packages/pymongo/synchronous/collection.py?line=2955'>2956</a>\u001b[0m \u001b[39m\"\"\"\u001b[39;00m\n\u001b[1;32m   <a href='file:///Users/nicolai/opt/anaconda3/envs/py310/lib/python3.10/site-packages/pymongo/synchronous/collection.py?line=2956'>2957</a>\u001b[0m \u001b[39mwith\u001b[39;00m \u001b[39mself\u001b[39m\u001b[39m.\u001b[39m_database\u001b[39m.\u001b[39mclient\u001b[39m.\u001b[39m_tmp_session(session, close\u001b[39m=\u001b[39m\u001b[39mFalse\u001b[39;00m) \u001b[39mas\u001b[39;00m s:\n\u001b[0;32m-> <a href='file:///Users/nicolai/opt/anaconda3/envs/py310/lib/python3.10/site-packages/pymongo/synchronous/collection.py?line=2957'>2958</a>\u001b[0m     \u001b[39mreturn\u001b[39;00m \u001b[39mself\u001b[39;49m\u001b[39m.\u001b[39;49m_aggregate(\n\u001b[1;32m   <a href='file:///Users/nicolai/opt/anaconda3/envs/py310/lib/python3.10/site-packages/pymongo/synchronous/collection.py?line=2958'>2959</a>\u001b[0m         _CollectionAggregationCommand,\n\u001b[1;32m   <a href='file:///Users/nicolai/opt/anaconda3/envs/py310/lib/python3.10/site-packages/pymongo/synchronous/collection.py?line=2959'>2960</a>\u001b[0m         pipeline,\n\u001b[1;32m   <a href='file:///Users/nicolai/opt/anaconda3/envs/py310/lib/python3.10/site-packages/pymongo/synchronous/collection.py?line=2960'>2961</a>\u001b[0m         CommandCursor,\n\u001b[1;32m   <a href='file:///Users/nicolai/opt/anaconda3/envs/py310/lib/python3.10/site-packages/pymongo/synchronous/collection.py?line=2961'>2962</a>\u001b[0m         session\u001b[39m=\u001b[39;49ms,\n\u001b[1;32m   <a href='file:///Users/nicolai/opt/anaconda3/envs/py310/lib/python3.10/site-packages/pymongo/synchronous/collection.py?line=2962'>2963</a>\u001b[0m         explicit_session\u001b[39m=\u001b[39;49msession \u001b[39mis\u001b[39;49;00m \u001b[39mnot\u001b[39;49;00m \u001b[39mNone\u001b[39;49;00m,\n\u001b[1;32m   <a href='file:///Users/nicolai/opt/anaconda3/envs/py310/lib/python3.10/site-packages/pymongo/synchronous/collection.py?line=2963'>2964</a>\u001b[0m         let\u001b[39m=\u001b[39;49mlet,\n\u001b[1;32m   <a href='file:///Users/nicolai/opt/anaconda3/envs/py310/lib/python3.10/site-packages/pymongo/synchronous/collection.py?line=2964'>2965</a>\u001b[0m         comment\u001b[39m=\u001b[39;49mcomment,\n\u001b[1;32m   <a href='file:///Users/nicolai/opt/anaconda3/envs/py310/lib/python3.10/site-packages/pymongo/synchronous/collection.py?line=2965'>2966</a>\u001b[0m         \u001b[39m*\u001b[39;49m\u001b[39m*\u001b[39;49mkwargs,\n\u001b[1;32m   <a href='file:///Users/nicolai/opt/anaconda3/envs/py310/lib/python3.10/site-packages/pymongo/synchronous/collection.py?line=2966'>2967</a>\u001b[0m     )\n",
      "File \u001b[0;32m~/opt/anaconda3/envs/py310/lib/python3.10/site-packages/pymongo/_csot.py:119\u001b[0m, in \u001b[0;36mapply.<locals>.csot_wrapper\u001b[0;34m(self, *args, **kwargs)\u001b[0m\n\u001b[1;32m    <a href='file:///Users/nicolai/opt/anaconda3/envs/py310/lib/python3.10/site-packages/pymongo/_csot.py?line=116'>117</a>\u001b[0m         \u001b[39mwith\u001b[39;00m _TimeoutContext(timeout):\n\u001b[1;32m    <a href='file:///Users/nicolai/opt/anaconda3/envs/py310/lib/python3.10/site-packages/pymongo/_csot.py?line=117'>118</a>\u001b[0m             \u001b[39mreturn\u001b[39;00m func(\u001b[39mself\u001b[39m, \u001b[39m*\u001b[39margs, \u001b[39m*\u001b[39m\u001b[39m*\u001b[39mkwargs)\n\u001b[0;32m--> <a href='file:///Users/nicolai/opt/anaconda3/envs/py310/lib/python3.10/site-packages/pymongo/_csot.py?line=118'>119</a>\u001b[0m \u001b[39mreturn\u001b[39;00m func(\u001b[39mself\u001b[39;49m, \u001b[39m*\u001b[39;49margs, \u001b[39m*\u001b[39;49m\u001b[39m*\u001b[39;49mkwargs)\n",
      "File \u001b[0;32m~/opt/anaconda3/envs/py310/lib/python3.10/site-packages/pymongo/synchronous/collection.py:2866\u001b[0m, in \u001b[0;36mCollection._aggregate\u001b[0;34m(self, aggregation_command, pipeline, cursor_class, session, explicit_session, let, comment, **kwargs)\u001b[0m\n\u001b[1;32m   <a href='file:///Users/nicolai/opt/anaconda3/envs/py310/lib/python3.10/site-packages/pymongo/synchronous/collection.py?line=2854'>2855</a>\u001b[0m     kwargs[\u001b[39m\"\u001b[39m\u001b[39mcomment\u001b[39m\u001b[39m\"\u001b[39m] \u001b[39m=\u001b[39m comment\n\u001b[1;32m   <a href='file:///Users/nicolai/opt/anaconda3/envs/py310/lib/python3.10/site-packages/pymongo/synchronous/collection.py?line=2855'>2856</a>\u001b[0m cmd \u001b[39m=\u001b[39m aggregation_command(\n\u001b[1;32m   <a href='file:///Users/nicolai/opt/anaconda3/envs/py310/lib/python3.10/site-packages/pymongo/synchronous/collection.py?line=2856'>2857</a>\u001b[0m     \u001b[39mself\u001b[39m,\n\u001b[1;32m   <a href='file:///Users/nicolai/opt/anaconda3/envs/py310/lib/python3.10/site-packages/pymongo/synchronous/collection.py?line=2857'>2858</a>\u001b[0m     cursor_class,\n\u001b[0;32m   (...)\u001b[0m\n\u001b[1;32m   <a href='file:///Users/nicolai/opt/anaconda3/envs/py310/lib/python3.10/site-packages/pymongo/synchronous/collection.py?line=2862'>2863</a>\u001b[0m     user_fields\u001b[39m=\u001b[39m{\u001b[39m\"\u001b[39m\u001b[39mcursor\u001b[39m\u001b[39m\"\u001b[39m: {\u001b[39m\"\u001b[39m\u001b[39mfirstBatch\u001b[39m\u001b[39m\"\u001b[39m: \u001b[39m1\u001b[39m}},\n\u001b[1;32m   <a href='file:///Users/nicolai/opt/anaconda3/envs/py310/lib/python3.10/site-packages/pymongo/synchronous/collection.py?line=2863'>2864</a>\u001b[0m )\n\u001b[0;32m-> <a href='file:///Users/nicolai/opt/anaconda3/envs/py310/lib/python3.10/site-packages/pymongo/synchronous/collection.py?line=2865'>2866</a>\u001b[0m \u001b[39mreturn\u001b[39;00m \u001b[39mself\u001b[39;49m\u001b[39m.\u001b[39;49m_database\u001b[39m.\u001b[39;49mclient\u001b[39m.\u001b[39;49m_retryable_read(\n\u001b[1;32m   <a href='file:///Users/nicolai/opt/anaconda3/envs/py310/lib/python3.10/site-packages/pymongo/synchronous/collection.py?line=2866'>2867</a>\u001b[0m     cmd\u001b[39m.\u001b[39;49mget_cursor,\n\u001b[1;32m   <a href='file:///Users/nicolai/opt/anaconda3/envs/py310/lib/python3.10/site-packages/pymongo/synchronous/collection.py?line=2867'>2868</a>\u001b[0m     cmd\u001b[39m.\u001b[39;49mget_read_preference(session),  \u001b[39m# type: ignore[arg-type]\u001b[39;49;00m\n\u001b[1;32m   <a href='file:///Users/nicolai/opt/anaconda3/envs/py310/lib/python3.10/site-packages/pymongo/synchronous/collection.py?line=2868'>2869</a>\u001b[0m     session,\n\u001b[1;32m   <a href='file:///Users/nicolai/opt/anaconda3/envs/py310/lib/python3.10/site-packages/pymongo/synchronous/collection.py?line=2869'>2870</a>\u001b[0m     retryable\u001b[39m=\u001b[39;49m\u001b[39mnot\u001b[39;49;00m cmd\u001b[39m.\u001b[39;49m_performs_write,\n\u001b[1;32m   <a href='file:///Users/nicolai/opt/anaconda3/envs/py310/lib/python3.10/site-packages/pymongo/synchronous/collection.py?line=2870'>2871</a>\u001b[0m     operation\u001b[39m=\u001b[39;49m_Op\u001b[39m.\u001b[39;49mAGGREGATE,\n\u001b[1;32m   <a href='file:///Users/nicolai/opt/anaconda3/envs/py310/lib/python3.10/site-packages/pymongo/synchronous/collection.py?line=2871'>2872</a>\u001b[0m )\n",
      "File \u001b[0;32m~/opt/anaconda3/envs/py310/lib/python3.10/site-packages/pymongo/synchronous/mongo_client.py:1863\u001b[0m, in \u001b[0;36mMongoClient._retryable_read\u001b[0;34m(self, func, read_pref, session, operation, address, retryable, operation_id)\u001b[0m\n\u001b[1;32m   <a href='file:///Users/nicolai/opt/anaconda3/envs/py310/lib/python3.10/site-packages/pymongo/synchronous/mongo_client.py?line=1857'>1858</a>\u001b[0m \u001b[39m# Ensure that the client supports retrying on reads and there is no session in\u001b[39;00m\n\u001b[1;32m   <a href='file:///Users/nicolai/opt/anaconda3/envs/py310/lib/python3.10/site-packages/pymongo/synchronous/mongo_client.py?line=1858'>1859</a>\u001b[0m \u001b[39m# transaction, otherwise, we will not support retry behavior for this call.\u001b[39;00m\n\u001b[1;32m   <a href='file:///Users/nicolai/opt/anaconda3/envs/py310/lib/python3.10/site-packages/pymongo/synchronous/mongo_client.py?line=1859'>1860</a>\u001b[0m retryable \u001b[39m=\u001b[39m \u001b[39mbool\u001b[39m(\n\u001b[1;32m   <a href='file:///Users/nicolai/opt/anaconda3/envs/py310/lib/python3.10/site-packages/pymongo/synchronous/mongo_client.py?line=1860'>1861</a>\u001b[0m     retryable \u001b[39mand\u001b[39;00m \u001b[39mself\u001b[39m\u001b[39m.\u001b[39moptions\u001b[39m.\u001b[39mretry_reads \u001b[39mand\u001b[39;00m \u001b[39mnot\u001b[39;00m (session \u001b[39mand\u001b[39;00m session\u001b[39m.\u001b[39min_transaction)\n\u001b[1;32m   <a href='file:///Users/nicolai/opt/anaconda3/envs/py310/lib/python3.10/site-packages/pymongo/synchronous/mongo_client.py?line=1861'>1862</a>\u001b[0m )\n\u001b[0;32m-> <a href='file:///Users/nicolai/opt/anaconda3/envs/py310/lib/python3.10/site-packages/pymongo/synchronous/mongo_client.py?line=1862'>1863</a>\u001b[0m \u001b[39mreturn\u001b[39;00m \u001b[39mself\u001b[39;49m\u001b[39m.\u001b[39;49m_retry_internal(\n\u001b[1;32m   <a href='file:///Users/nicolai/opt/anaconda3/envs/py310/lib/python3.10/site-packages/pymongo/synchronous/mongo_client.py?line=1863'>1864</a>\u001b[0m     func,\n\u001b[1;32m   <a href='file:///Users/nicolai/opt/anaconda3/envs/py310/lib/python3.10/site-packages/pymongo/synchronous/mongo_client.py?line=1864'>1865</a>\u001b[0m     session,\n\u001b[1;32m   <a href='file:///Users/nicolai/opt/anaconda3/envs/py310/lib/python3.10/site-packages/pymongo/synchronous/mongo_client.py?line=1865'>1866</a>\u001b[0m     \u001b[39mNone\u001b[39;49;00m,\n\u001b[1;32m   <a href='file:///Users/nicolai/opt/anaconda3/envs/py310/lib/python3.10/site-packages/pymongo/synchronous/mongo_client.py?line=1866'>1867</a>\u001b[0m     operation,\n\u001b[1;32m   <a href='file:///Users/nicolai/opt/anaconda3/envs/py310/lib/python3.10/site-packages/pymongo/synchronous/mongo_client.py?line=1867'>1868</a>\u001b[0m     is_read\u001b[39m=\u001b[39;49m\u001b[39mTrue\u001b[39;49;00m,\n\u001b[1;32m   <a href='file:///Users/nicolai/opt/anaconda3/envs/py310/lib/python3.10/site-packages/pymongo/synchronous/mongo_client.py?line=1868'>1869</a>\u001b[0m     address\u001b[39m=\u001b[39;49maddress,\n\u001b[1;32m   <a href='file:///Users/nicolai/opt/anaconda3/envs/py310/lib/python3.10/site-packages/pymongo/synchronous/mongo_client.py?line=1869'>1870</a>\u001b[0m     read_pref\u001b[39m=\u001b[39;49mread_pref,\n\u001b[1;32m   <a href='file:///Users/nicolai/opt/anaconda3/envs/py310/lib/python3.10/site-packages/pymongo/synchronous/mongo_client.py?line=1870'>1871</a>\u001b[0m     retryable\u001b[39m=\u001b[39;49mretryable,\n\u001b[1;32m   <a href='file:///Users/nicolai/opt/anaconda3/envs/py310/lib/python3.10/site-packages/pymongo/synchronous/mongo_client.py?line=1871'>1872</a>\u001b[0m     operation_id\u001b[39m=\u001b[39;49moperation_id,\n\u001b[1;32m   <a href='file:///Users/nicolai/opt/anaconda3/envs/py310/lib/python3.10/site-packages/pymongo/synchronous/mongo_client.py?line=1872'>1873</a>\u001b[0m )\n",
      "File \u001b[0;32m~/opt/anaconda3/envs/py310/lib/python3.10/site-packages/pymongo/_csot.py:119\u001b[0m, in \u001b[0;36mapply.<locals>.csot_wrapper\u001b[0;34m(self, *args, **kwargs)\u001b[0m\n\u001b[1;32m    <a href='file:///Users/nicolai/opt/anaconda3/envs/py310/lib/python3.10/site-packages/pymongo/_csot.py?line=116'>117</a>\u001b[0m         \u001b[39mwith\u001b[39;00m _TimeoutContext(timeout):\n\u001b[1;32m    <a href='file:///Users/nicolai/opt/anaconda3/envs/py310/lib/python3.10/site-packages/pymongo/_csot.py?line=117'>118</a>\u001b[0m             \u001b[39mreturn\u001b[39;00m func(\u001b[39mself\u001b[39m, \u001b[39m*\u001b[39margs, \u001b[39m*\u001b[39m\u001b[39m*\u001b[39mkwargs)\n\u001b[0;32m--> <a href='file:///Users/nicolai/opt/anaconda3/envs/py310/lib/python3.10/site-packages/pymongo/_csot.py?line=118'>119</a>\u001b[0m \u001b[39mreturn\u001b[39;00m func(\u001b[39mself\u001b[39;49m, \u001b[39m*\u001b[39;49margs, \u001b[39m*\u001b[39;49m\u001b[39m*\u001b[39;49mkwargs)\n",
      "File \u001b[0;32m~/opt/anaconda3/envs/py310/lib/python3.10/site-packages/pymongo/synchronous/mongo_client.py:1830\u001b[0m, in \u001b[0;36mMongoClient._retry_internal\u001b[0;34m(self, func, session, bulk, operation, is_read, address, read_pref, retryable, operation_id)\u001b[0m\n\u001b[1;32m   <a href='file:///Users/nicolai/opt/anaconda3/envs/py310/lib/python3.10/site-packages/pymongo/synchronous/mongo_client.py?line=1792'>1793</a>\u001b[0m \u001b[39m@_csot\u001b[39m\u001b[39m.\u001b[39mapply\n\u001b[1;32m   <a href='file:///Users/nicolai/opt/anaconda3/envs/py310/lib/python3.10/site-packages/pymongo/synchronous/mongo_client.py?line=1793'>1794</a>\u001b[0m \u001b[39mdef\u001b[39;00m \u001b[39m_retry_internal\u001b[39m(\n\u001b[1;32m   <a href='file:///Users/nicolai/opt/anaconda3/envs/py310/lib/python3.10/site-packages/pymongo/synchronous/mongo_client.py?line=1794'>1795</a>\u001b[0m     \u001b[39mself\u001b[39m,\n\u001b[0;32m   (...)\u001b[0m\n\u001b[1;32m   <a href='file:///Users/nicolai/opt/anaconda3/envs/py310/lib/python3.10/site-packages/pymongo/synchronous/mongo_client.py?line=1803'>1804</a>\u001b[0m     operation_id: Optional[\u001b[39mint\u001b[39m] \u001b[39m=\u001b[39m \u001b[39mNone\u001b[39;00m,\n\u001b[1;32m   <a href='file:///Users/nicolai/opt/anaconda3/envs/py310/lib/python3.10/site-packages/pymongo/synchronous/mongo_client.py?line=1804'>1805</a>\u001b[0m ) \u001b[39m-\u001b[39m\u001b[39m>\u001b[39m T:\n\u001b[1;32m   <a href='file:///Users/nicolai/opt/anaconda3/envs/py310/lib/python3.10/site-packages/pymongo/synchronous/mongo_client.py?line=1805'>1806</a>\u001b[0m \u001b[39m    \u001b[39m\u001b[39m\"\"\"Internal retryable helper for all client transactions.\u001b[39;00m\n\u001b[1;32m   <a href='file:///Users/nicolai/opt/anaconda3/envs/py310/lib/python3.10/site-packages/pymongo/synchronous/mongo_client.py?line=1806'>1807</a>\u001b[0m \n\u001b[1;32m   <a href='file:///Users/nicolai/opt/anaconda3/envs/py310/lib/python3.10/site-packages/pymongo/synchronous/mongo_client.py?line=1807'>1808</a>\u001b[0m \u001b[39m    :param func: Callback function we want to retry\u001b[39;00m\n\u001b[0;32m   (...)\u001b[0m\n\u001b[1;32m   <a href='file:///Users/nicolai/opt/anaconda3/envs/py310/lib/python3.10/site-packages/pymongo/synchronous/mongo_client.py?line=1816'>1817</a>\u001b[0m \u001b[39m    :return: Output of the calling func()\u001b[39;00m\n\u001b[1;32m   <a href='file:///Users/nicolai/opt/anaconda3/envs/py310/lib/python3.10/site-packages/pymongo/synchronous/mongo_client.py?line=1817'>1818</a>\u001b[0m \u001b[39m    \"\"\"\u001b[39;00m\n\u001b[1;32m   <a href='file:///Users/nicolai/opt/anaconda3/envs/py310/lib/python3.10/site-packages/pymongo/synchronous/mongo_client.py?line=1818'>1819</a>\u001b[0m     \u001b[39mreturn\u001b[39;00m _ClientConnectionRetryable(\n\u001b[1;32m   <a href='file:///Users/nicolai/opt/anaconda3/envs/py310/lib/python3.10/site-packages/pymongo/synchronous/mongo_client.py?line=1819'>1820</a>\u001b[0m         mongo_client\u001b[39m=\u001b[39;49m\u001b[39mself\u001b[39;49m,\n\u001b[1;32m   <a href='file:///Users/nicolai/opt/anaconda3/envs/py310/lib/python3.10/site-packages/pymongo/synchronous/mongo_client.py?line=1820'>1821</a>\u001b[0m         func\u001b[39m=\u001b[39;49mfunc,\n\u001b[1;32m   <a href='file:///Users/nicolai/opt/anaconda3/envs/py310/lib/python3.10/site-packages/pymongo/synchronous/mongo_client.py?line=1821'>1822</a>\u001b[0m         bulk\u001b[39m=\u001b[39;49mbulk,\n\u001b[1;32m   <a href='file:///Users/nicolai/opt/anaconda3/envs/py310/lib/python3.10/site-packages/pymongo/synchronous/mongo_client.py?line=1822'>1823</a>\u001b[0m         operation\u001b[39m=\u001b[39;49moperation,\n\u001b[1;32m   <a href='file:///Users/nicolai/opt/anaconda3/envs/py310/lib/python3.10/site-packages/pymongo/synchronous/mongo_client.py?line=1823'>1824</a>\u001b[0m         is_read\u001b[39m=\u001b[39;49mis_read,\n\u001b[1;32m   <a href='file:///Users/nicolai/opt/anaconda3/envs/py310/lib/python3.10/site-packages/pymongo/synchronous/mongo_client.py?line=1824'>1825</a>\u001b[0m         session\u001b[39m=\u001b[39;49msession,\n\u001b[1;32m   <a href='file:///Users/nicolai/opt/anaconda3/envs/py310/lib/python3.10/site-packages/pymongo/synchronous/mongo_client.py?line=1825'>1826</a>\u001b[0m         read_pref\u001b[39m=\u001b[39;49mread_pref,\n\u001b[1;32m   <a href='file:///Users/nicolai/opt/anaconda3/envs/py310/lib/python3.10/site-packages/pymongo/synchronous/mongo_client.py?line=1826'>1827</a>\u001b[0m         address\u001b[39m=\u001b[39;49maddress,\n\u001b[1;32m   <a href='file:///Users/nicolai/opt/anaconda3/envs/py310/lib/python3.10/site-packages/pymongo/synchronous/mongo_client.py?line=1827'>1828</a>\u001b[0m         retryable\u001b[39m=\u001b[39;49mretryable,\n\u001b[1;32m   <a href='file:///Users/nicolai/opt/anaconda3/envs/py310/lib/python3.10/site-packages/pymongo/synchronous/mongo_client.py?line=1828'>1829</a>\u001b[0m         operation_id\u001b[39m=\u001b[39;49moperation_id,\n\u001b[0;32m-> <a href='file:///Users/nicolai/opt/anaconda3/envs/py310/lib/python3.10/site-packages/pymongo/synchronous/mongo_client.py?line=1829'>1830</a>\u001b[0m     )\u001b[39m.\u001b[39;49mrun()\n",
      "File \u001b[0;32m~/opt/anaconda3/envs/py310/lib/python3.10/site-packages/pymongo/synchronous/mongo_client.py:2554\u001b[0m, in \u001b[0;36m_ClientConnectionRetryable.run\u001b[0;34m(self)\u001b[0m\n\u001b[1;32m   <a href='file:///Users/nicolai/opt/anaconda3/envs/py310/lib/python3.10/site-packages/pymongo/synchronous/mongo_client.py?line=2551'>2552</a>\u001b[0m \u001b[39mself\u001b[39m\u001b[39m.\u001b[39m_check_last_error(check_csot\u001b[39m=\u001b[39m\u001b[39mTrue\u001b[39;00m)\n\u001b[1;32m   <a href='file:///Users/nicolai/opt/anaconda3/envs/py310/lib/python3.10/site-packages/pymongo/synchronous/mongo_client.py?line=2552'>2553</a>\u001b[0m \u001b[39mtry\u001b[39;00m:\n\u001b[0;32m-> <a href='file:///Users/nicolai/opt/anaconda3/envs/py310/lib/python3.10/site-packages/pymongo/synchronous/mongo_client.py?line=2553'>2554</a>\u001b[0m     \u001b[39mreturn\u001b[39;00m \u001b[39mself\u001b[39;49m\u001b[39m.\u001b[39;49m_read() \u001b[39mif\u001b[39;00m \u001b[39mself\u001b[39m\u001b[39m.\u001b[39m_is_read \u001b[39melse\u001b[39;00m \u001b[39mself\u001b[39m\u001b[39m.\u001b[39m_write()\n\u001b[1;32m   <a href='file:///Users/nicolai/opt/anaconda3/envs/py310/lib/python3.10/site-packages/pymongo/synchronous/mongo_client.py?line=2554'>2555</a>\u001b[0m \u001b[39mexcept\u001b[39;00m ServerSelectionTimeoutError:\n\u001b[1;32m   <a href='file:///Users/nicolai/opt/anaconda3/envs/py310/lib/python3.10/site-packages/pymongo/synchronous/mongo_client.py?line=2555'>2556</a>\u001b[0m     \u001b[39m# The application may think the write was never attempted\u001b[39;00m\n\u001b[1;32m   <a href='file:///Users/nicolai/opt/anaconda3/envs/py310/lib/python3.10/site-packages/pymongo/synchronous/mongo_client.py?line=2556'>2557</a>\u001b[0m     \u001b[39m# if we raise ServerSelectionTimeoutError on the retry\u001b[39;00m\n\u001b[1;32m   <a href='file:///Users/nicolai/opt/anaconda3/envs/py310/lib/python3.10/site-packages/pymongo/synchronous/mongo_client.py?line=2557'>2558</a>\u001b[0m     \u001b[39m# attempt. Raise the original exception instead.\u001b[39;00m\n\u001b[1;32m   <a href='file:///Users/nicolai/opt/anaconda3/envs/py310/lib/python3.10/site-packages/pymongo/synchronous/mongo_client.py?line=2558'>2559</a>\u001b[0m     \u001b[39mself\u001b[39m\u001b[39m.\u001b[39m_check_last_error()\n",
      "File \u001b[0;32m~/opt/anaconda3/envs/py310/lib/python3.10/site-packages/pymongo/synchronous/mongo_client.py:2697\u001b[0m, in \u001b[0;36m_ClientConnectionRetryable._read\u001b[0;34m(self)\u001b[0m\n\u001b[1;32m   <a href='file:///Users/nicolai/opt/anaconda3/envs/py310/lib/python3.10/site-packages/pymongo/synchronous/mongo_client.py?line=2694'>2695</a>\u001b[0m \u001b[39mif\u001b[39;00m \u001b[39mself\u001b[39m\u001b[39m.\u001b[39m_retrying \u001b[39mand\u001b[39;00m \u001b[39mnot\u001b[39;00m \u001b[39mself\u001b[39m\u001b[39m.\u001b[39m_retryable:\n\u001b[1;32m   <a href='file:///Users/nicolai/opt/anaconda3/envs/py310/lib/python3.10/site-packages/pymongo/synchronous/mongo_client.py?line=2695'>2696</a>\u001b[0m     \u001b[39mself\u001b[39m\u001b[39m.\u001b[39m_check_last_error()\n\u001b[0;32m-> <a href='file:///Users/nicolai/opt/anaconda3/envs/py310/lib/python3.10/site-packages/pymongo/synchronous/mongo_client.py?line=2696'>2697</a>\u001b[0m \u001b[39mreturn\u001b[39;00m \u001b[39mself\u001b[39;49m\u001b[39m.\u001b[39;49m_func(\u001b[39mself\u001b[39;49m\u001b[39m.\u001b[39;49m_session, \u001b[39mself\u001b[39;49m\u001b[39m.\u001b[39;49m_server, conn, read_pref)\n",
      "File \u001b[0;32m~/opt/anaconda3/envs/py310/lib/python3.10/site-packages/pymongo/synchronous/aggregation.py:164\u001b[0m, in \u001b[0;36m_AggregationCommand.get_cursor\u001b[0;34m(self, session, server, conn, read_preference)\u001b[0m\n\u001b[1;32m    <a href='file:///Users/nicolai/opt/anaconda3/envs/py310/lib/python3.10/site-packages/pymongo/synchronous/aggregation.py?line=160'>161</a>\u001b[0m     write_concern \u001b[39m=\u001b[39m \u001b[39mNone\u001b[39;00m\n\u001b[1;32m    <a href='file:///Users/nicolai/opt/anaconda3/envs/py310/lib/python3.10/site-packages/pymongo/synchronous/aggregation.py?line=162'>163</a>\u001b[0m \u001b[39m# Run command.\u001b[39;00m\n\u001b[0;32m--> <a href='file:///Users/nicolai/opt/anaconda3/envs/py310/lib/python3.10/site-packages/pymongo/synchronous/aggregation.py?line=163'>164</a>\u001b[0m result \u001b[39m=\u001b[39m conn\u001b[39m.\u001b[39;49mcommand(\n\u001b[1;32m    <a href='file:///Users/nicolai/opt/anaconda3/envs/py310/lib/python3.10/site-packages/pymongo/synchronous/aggregation.py?line=164'>165</a>\u001b[0m     \u001b[39mself\u001b[39;49m\u001b[39m.\u001b[39;49m_database\u001b[39m.\u001b[39;49mname,\n\u001b[1;32m    <a href='file:///Users/nicolai/opt/anaconda3/envs/py310/lib/python3.10/site-packages/pymongo/synchronous/aggregation.py?line=165'>166</a>\u001b[0m     cmd,\n\u001b[1;32m    <a href='file:///Users/nicolai/opt/anaconda3/envs/py310/lib/python3.10/site-packages/pymongo/synchronous/aggregation.py?line=166'>167</a>\u001b[0m     read_preference,\n\u001b[1;32m    <a href='file:///Users/nicolai/opt/anaconda3/envs/py310/lib/python3.10/site-packages/pymongo/synchronous/aggregation.py?line=167'>168</a>\u001b[0m     \u001b[39mself\u001b[39;49m\u001b[39m.\u001b[39;49m_target\u001b[39m.\u001b[39;49mcodec_options,\n\u001b[1;32m    <a href='file:///Users/nicolai/opt/anaconda3/envs/py310/lib/python3.10/site-packages/pymongo/synchronous/aggregation.py?line=168'>169</a>\u001b[0m     parse_write_concern_error\u001b[39m=\u001b[39;49m\u001b[39mTrue\u001b[39;49;00m,\n\u001b[1;32m    <a href='file:///Users/nicolai/opt/anaconda3/envs/py310/lib/python3.10/site-packages/pymongo/synchronous/aggregation.py?line=169'>170</a>\u001b[0m     read_concern\u001b[39m=\u001b[39;49mread_concern,\n\u001b[1;32m    <a href='file:///Users/nicolai/opt/anaconda3/envs/py310/lib/python3.10/site-packages/pymongo/synchronous/aggregation.py?line=170'>171</a>\u001b[0m     write_concern\u001b[39m=\u001b[39;49mwrite_concern,\n\u001b[1;32m    <a href='file:///Users/nicolai/opt/anaconda3/envs/py310/lib/python3.10/site-packages/pymongo/synchronous/aggregation.py?line=171'>172</a>\u001b[0m     collation\u001b[39m=\u001b[39;49m\u001b[39mself\u001b[39;49m\u001b[39m.\u001b[39;49m_collation,\n\u001b[1;32m    <a href='file:///Users/nicolai/opt/anaconda3/envs/py310/lib/python3.10/site-packages/pymongo/synchronous/aggregation.py?line=172'>173</a>\u001b[0m     session\u001b[39m=\u001b[39;49msession,\n\u001b[1;32m    <a href='file:///Users/nicolai/opt/anaconda3/envs/py310/lib/python3.10/site-packages/pymongo/synchronous/aggregation.py?line=173'>174</a>\u001b[0m     client\u001b[39m=\u001b[39;49m\u001b[39mself\u001b[39;49m\u001b[39m.\u001b[39;49m_database\u001b[39m.\u001b[39;49mclient,\n\u001b[1;32m    <a href='file:///Users/nicolai/opt/anaconda3/envs/py310/lib/python3.10/site-packages/pymongo/synchronous/aggregation.py?line=174'>175</a>\u001b[0m     user_fields\u001b[39m=\u001b[39;49m\u001b[39mself\u001b[39;49m\u001b[39m.\u001b[39;49m_user_fields,\n\u001b[1;32m    <a href='file:///Users/nicolai/opt/anaconda3/envs/py310/lib/python3.10/site-packages/pymongo/synchronous/aggregation.py?line=175'>176</a>\u001b[0m )\n\u001b[1;32m    <a href='file:///Users/nicolai/opt/anaconda3/envs/py310/lib/python3.10/site-packages/pymongo/synchronous/aggregation.py?line=177'>178</a>\u001b[0m \u001b[39mif\u001b[39;00m \u001b[39mself\u001b[39m\u001b[39m.\u001b[39m_result_processor:\n\u001b[1;32m    <a href='file:///Users/nicolai/opt/anaconda3/envs/py310/lib/python3.10/site-packages/pymongo/synchronous/aggregation.py?line=178'>179</a>\u001b[0m     \u001b[39mself\u001b[39m\u001b[39m.\u001b[39m_result_processor(result, conn)\n",
      "File \u001b[0;32m~/opt/anaconda3/envs/py310/lib/python3.10/site-packages/pymongo/synchronous/helpers.py:45\u001b[0m, in \u001b[0;36m_handle_reauth.<locals>.inner\u001b[0;34m(*args, **kwargs)\u001b[0m\n\u001b[1;32m     <a href='file:///Users/nicolai/opt/anaconda3/envs/py310/lib/python3.10/site-packages/pymongo/synchronous/helpers.py?line=41'>42</a>\u001b[0m \u001b[39mfrom\u001b[39;00m \u001b[39mpymongo\u001b[39;00m\u001b[39m.\u001b[39;00m\u001b[39msynchronous\u001b[39;00m\u001b[39m.\u001b[39;00m\u001b[39mpool\u001b[39;00m \u001b[39mimport\u001b[39;00m Connection\n\u001b[1;32m     <a href='file:///Users/nicolai/opt/anaconda3/envs/py310/lib/python3.10/site-packages/pymongo/synchronous/helpers.py?line=43'>44</a>\u001b[0m \u001b[39mtry\u001b[39;00m:\n\u001b[0;32m---> <a href='file:///Users/nicolai/opt/anaconda3/envs/py310/lib/python3.10/site-packages/pymongo/synchronous/helpers.py?line=44'>45</a>\u001b[0m     \u001b[39mreturn\u001b[39;00m func(\u001b[39m*\u001b[39;49margs, \u001b[39m*\u001b[39;49m\u001b[39m*\u001b[39;49mkwargs)\n\u001b[1;32m     <a href='file:///Users/nicolai/opt/anaconda3/envs/py310/lib/python3.10/site-packages/pymongo/synchronous/helpers.py?line=45'>46</a>\u001b[0m \u001b[39mexcept\u001b[39;00m OperationFailure \u001b[39mas\u001b[39;00m exc:\n\u001b[1;32m     <a href='file:///Users/nicolai/opt/anaconda3/envs/py310/lib/python3.10/site-packages/pymongo/synchronous/helpers.py?line=46'>47</a>\u001b[0m     \u001b[39mif\u001b[39;00m no_reauth:\n",
      "File \u001b[0;32m~/opt/anaconda3/envs/py310/lib/python3.10/site-packages/pymongo/synchronous/pool.py:538\u001b[0m, in \u001b[0;36mConnection.command\u001b[0;34m(self, dbname, spec, read_preference, codec_options, check, allowable_errors, read_concern, write_concern, parse_write_concern_error, collation, session, client, retryable_write, publish_events, user_fields, exhaust_allowed)\u001b[0m\n\u001b[1;32m    <a href='file:///Users/nicolai/opt/anaconda3/envs/py310/lib/python3.10/site-packages/pymongo/synchronous/pool.py?line=535'>536</a>\u001b[0m     \u001b[39mself\u001b[39m\u001b[39m.\u001b[39m_raise_if_not_writable(unacknowledged)\n\u001b[1;32m    <a href='file:///Users/nicolai/opt/anaconda3/envs/py310/lib/python3.10/site-packages/pymongo/synchronous/pool.py?line=536'>537</a>\u001b[0m \u001b[39mtry\u001b[39;00m:\n\u001b[0;32m--> <a href='file:///Users/nicolai/opt/anaconda3/envs/py310/lib/python3.10/site-packages/pymongo/synchronous/pool.py?line=537'>538</a>\u001b[0m     \u001b[39mreturn\u001b[39;00m command(\n\u001b[1;32m    <a href='file:///Users/nicolai/opt/anaconda3/envs/py310/lib/python3.10/site-packages/pymongo/synchronous/pool.py?line=538'>539</a>\u001b[0m         \u001b[39mself\u001b[39;49m,\n\u001b[1;32m    <a href='file:///Users/nicolai/opt/anaconda3/envs/py310/lib/python3.10/site-packages/pymongo/synchronous/pool.py?line=539'>540</a>\u001b[0m         dbname,\n\u001b[1;32m    <a href='file:///Users/nicolai/opt/anaconda3/envs/py310/lib/python3.10/site-packages/pymongo/synchronous/pool.py?line=540'>541</a>\u001b[0m         spec,\n\u001b[1;32m    <a href='file:///Users/nicolai/opt/anaconda3/envs/py310/lib/python3.10/site-packages/pymongo/synchronous/pool.py?line=541'>542</a>\u001b[0m         \u001b[39mself\u001b[39;49m\u001b[39m.\u001b[39;49mis_mongos,\n\u001b[1;32m    <a href='file:///Users/nicolai/opt/anaconda3/envs/py310/lib/python3.10/site-packages/pymongo/synchronous/pool.py?line=542'>543</a>\u001b[0m         read_preference,\n\u001b[1;32m    <a href='file:///Users/nicolai/opt/anaconda3/envs/py310/lib/python3.10/site-packages/pymongo/synchronous/pool.py?line=543'>544</a>\u001b[0m         codec_options,\n\u001b[1;32m    <a href='file:///Users/nicolai/opt/anaconda3/envs/py310/lib/python3.10/site-packages/pymongo/synchronous/pool.py?line=544'>545</a>\u001b[0m         session,\n\u001b[1;32m    <a href='file:///Users/nicolai/opt/anaconda3/envs/py310/lib/python3.10/site-packages/pymongo/synchronous/pool.py?line=545'>546</a>\u001b[0m         client,\n\u001b[1;32m    <a href='file:///Users/nicolai/opt/anaconda3/envs/py310/lib/python3.10/site-packages/pymongo/synchronous/pool.py?line=546'>547</a>\u001b[0m         check,\n\u001b[1;32m    <a href='file:///Users/nicolai/opt/anaconda3/envs/py310/lib/python3.10/site-packages/pymongo/synchronous/pool.py?line=547'>548</a>\u001b[0m         allowable_errors,\n\u001b[1;32m    <a href='file:///Users/nicolai/opt/anaconda3/envs/py310/lib/python3.10/site-packages/pymongo/synchronous/pool.py?line=548'>549</a>\u001b[0m         \u001b[39mself\u001b[39;49m\u001b[39m.\u001b[39;49maddress,\n\u001b[1;32m    <a href='file:///Users/nicolai/opt/anaconda3/envs/py310/lib/python3.10/site-packages/pymongo/synchronous/pool.py?line=549'>550</a>\u001b[0m         listeners,\n\u001b[1;32m    <a href='file:///Users/nicolai/opt/anaconda3/envs/py310/lib/python3.10/site-packages/pymongo/synchronous/pool.py?line=550'>551</a>\u001b[0m         \u001b[39mself\u001b[39;49m\u001b[39m.\u001b[39;49mmax_bson_size,\n\u001b[1;32m    <a href='file:///Users/nicolai/opt/anaconda3/envs/py310/lib/python3.10/site-packages/pymongo/synchronous/pool.py?line=551'>552</a>\u001b[0m         read_concern,\n\u001b[1;32m    <a href='file:///Users/nicolai/opt/anaconda3/envs/py310/lib/python3.10/site-packages/pymongo/synchronous/pool.py?line=552'>553</a>\u001b[0m         parse_write_concern_error\u001b[39m=\u001b[39;49mparse_write_concern_error,\n\u001b[1;32m    <a href='file:///Users/nicolai/opt/anaconda3/envs/py310/lib/python3.10/site-packages/pymongo/synchronous/pool.py?line=553'>554</a>\u001b[0m         collation\u001b[39m=\u001b[39;49mcollation,\n\u001b[1;32m    <a href='file:///Users/nicolai/opt/anaconda3/envs/py310/lib/python3.10/site-packages/pymongo/synchronous/pool.py?line=554'>555</a>\u001b[0m         compression_ctx\u001b[39m=\u001b[39;49m\u001b[39mself\u001b[39;49m\u001b[39m.\u001b[39;49mcompression_context,\n\u001b[1;32m    <a href='file:///Users/nicolai/opt/anaconda3/envs/py310/lib/python3.10/site-packages/pymongo/synchronous/pool.py?line=555'>556</a>\u001b[0m         use_op_msg\u001b[39m=\u001b[39;49m\u001b[39mself\u001b[39;49m\u001b[39m.\u001b[39;49mop_msg_enabled,\n\u001b[1;32m    <a href='file:///Users/nicolai/opt/anaconda3/envs/py310/lib/python3.10/site-packages/pymongo/synchronous/pool.py?line=556'>557</a>\u001b[0m         unacknowledged\u001b[39m=\u001b[39;49munacknowledged,\n\u001b[1;32m    <a href='file:///Users/nicolai/opt/anaconda3/envs/py310/lib/python3.10/site-packages/pymongo/synchronous/pool.py?line=557'>558</a>\u001b[0m         user_fields\u001b[39m=\u001b[39;49muser_fields,\n\u001b[1;32m    <a href='file:///Users/nicolai/opt/anaconda3/envs/py310/lib/python3.10/site-packages/pymongo/synchronous/pool.py?line=558'>559</a>\u001b[0m         exhaust_allowed\u001b[39m=\u001b[39;49mexhaust_allowed,\n\u001b[1;32m    <a href='file:///Users/nicolai/opt/anaconda3/envs/py310/lib/python3.10/site-packages/pymongo/synchronous/pool.py?line=559'>560</a>\u001b[0m         write_concern\u001b[39m=\u001b[39;49mwrite_concern,\n\u001b[1;32m    <a href='file:///Users/nicolai/opt/anaconda3/envs/py310/lib/python3.10/site-packages/pymongo/synchronous/pool.py?line=560'>561</a>\u001b[0m     )\n\u001b[1;32m    <a href='file:///Users/nicolai/opt/anaconda3/envs/py310/lib/python3.10/site-packages/pymongo/synchronous/pool.py?line=561'>562</a>\u001b[0m \u001b[39mexcept\u001b[39;00m (OperationFailure, NotPrimaryError):\n\u001b[1;32m    <a href='file:///Users/nicolai/opt/anaconda3/envs/py310/lib/python3.10/site-packages/pymongo/synchronous/pool.py?line=562'>563</a>\u001b[0m     \u001b[39mraise\u001b[39;00m\n",
      "File \u001b[0;32m~/opt/anaconda3/envs/py310/lib/python3.10/site-packages/pymongo/synchronous/network.py:218\u001b[0m, in \u001b[0;36mcommand\u001b[0;34m(conn, dbname, spec, is_mongos, read_preference, codec_options, session, client, check, allowable_errors, address, listeners, max_bson_size, read_concern, parse_write_concern_error, collation, compression_ctx, use_op_msg, unacknowledged, user_fields, exhaust_allowed, write_concern)\u001b[0m\n\u001b[1;32m    <a href='file:///Users/nicolai/opt/anaconda3/envs/py310/lib/python3.10/site-packages/pymongo/synchronous/network.py?line=215'>216</a>\u001b[0m             client\u001b[39m.\u001b[39m_process_response(response_doc, session)\n\u001b[1;32m    <a href='file:///Users/nicolai/opt/anaconda3/envs/py310/lib/python3.10/site-packages/pymongo/synchronous/network.py?line=216'>217</a>\u001b[0m         \u001b[39mif\u001b[39;00m check:\n\u001b[0;32m--> <a href='file:///Users/nicolai/opt/anaconda3/envs/py310/lib/python3.10/site-packages/pymongo/synchronous/network.py?line=217'>218</a>\u001b[0m             helpers_shared\u001b[39m.\u001b[39;49m_check_command_response(\n\u001b[1;32m    <a href='file:///Users/nicolai/opt/anaconda3/envs/py310/lib/python3.10/site-packages/pymongo/synchronous/network.py?line=218'>219</a>\u001b[0m                 response_doc,\n\u001b[1;32m    <a href='file:///Users/nicolai/opt/anaconda3/envs/py310/lib/python3.10/site-packages/pymongo/synchronous/network.py?line=219'>220</a>\u001b[0m                 conn\u001b[39m.\u001b[39;49mmax_wire_version,\n\u001b[1;32m    <a href='file:///Users/nicolai/opt/anaconda3/envs/py310/lib/python3.10/site-packages/pymongo/synchronous/network.py?line=220'>221</a>\u001b[0m                 allowable_errors,\n\u001b[1;32m    <a href='file:///Users/nicolai/opt/anaconda3/envs/py310/lib/python3.10/site-packages/pymongo/synchronous/network.py?line=221'>222</a>\u001b[0m                 parse_write_concern_error\u001b[39m=\u001b[39;49mparse_write_concern_error,\n\u001b[1;32m    <a href='file:///Users/nicolai/opt/anaconda3/envs/py310/lib/python3.10/site-packages/pymongo/synchronous/network.py?line=222'>223</a>\u001b[0m             )\n\u001b[1;32m    <a href='file:///Users/nicolai/opt/anaconda3/envs/py310/lib/python3.10/site-packages/pymongo/synchronous/network.py?line=223'>224</a>\u001b[0m \u001b[39mexcept\u001b[39;00m \u001b[39mException\u001b[39;00m \u001b[39mas\u001b[39;00m exc:\n\u001b[1;32m    <a href='file:///Users/nicolai/opt/anaconda3/envs/py310/lib/python3.10/site-packages/pymongo/synchronous/network.py?line=224'>225</a>\u001b[0m     duration \u001b[39m=\u001b[39m datetime\u001b[39m.\u001b[39mdatetime\u001b[39m.\u001b[39mnow() \u001b[39m-\u001b[39m start\n",
      "File \u001b[0;32m~/opt/anaconda3/envs/py310/lib/python3.10/site-packages/pymongo/helpers_shared.py:247\u001b[0m, in \u001b[0;36m_check_command_response\u001b[0;34m(response, max_wire_version, allowable_errors, parse_write_concern_error)\u001b[0m\n\u001b[1;32m    <a href='file:///Users/nicolai/opt/anaconda3/envs/py310/lib/python3.10/site-packages/pymongo/helpers_shared.py?line=243'>244</a>\u001b[0m \u001b[39melif\u001b[39;00m code \u001b[39m==\u001b[39m \u001b[39m43\u001b[39m:\n\u001b[1;32m    <a href='file:///Users/nicolai/opt/anaconda3/envs/py310/lib/python3.10/site-packages/pymongo/helpers_shared.py?line=244'>245</a>\u001b[0m     \u001b[39mraise\u001b[39;00m CursorNotFound(errmsg, code, response, max_wire_version)\n\u001b[0;32m--> <a href='file:///Users/nicolai/opt/anaconda3/envs/py310/lib/python3.10/site-packages/pymongo/helpers_shared.py?line=246'>247</a>\u001b[0m \u001b[39mraise\u001b[39;00m OperationFailure(errmsg, code, response, max_wire_version)\n",
      "\u001b[0;31mOperationFailure\u001b[0m: Failed to optimize pipeline :: caused by :: can't convert from BSON type string to Date, full error: {'ok': 0.0, 'errmsg': \"Failed to optimize pipeline :: caused by :: can't convert from BSON type string to Date\", 'code': 16006, 'codeName': 'Location16006'}"
     ]
    }
   ],
   "source": [
    "program.year_with_most_activities()\n"
   ]
  },
  {
   "cell_type": "code",
   "execution_count": 77,
   "metadata": {},
   "outputs": [
    {
     "name": "stdout",
     "output_type": "stream",
     "text": [
      "\n",
      "_________TASK 10: Users with activities in the Forbidden City_________\n",
      "No users found with activities in the Forbidden City.\n"
     ]
    }
   ],
   "source": [
    "program.task10()"
   ]
  },
  {
   "cell_type": "code",
   "execution_count": null,
   "metadata": {},
   "outputs": [],
   "source": []
  }
 ],
 "metadata": {
  "interpreter": {
   "hash": "1b80222257a9ff41114bdafd8b994b14d4592cfa9820bb5823474053eec43119"
  },
  "kernelspec": {
   "display_name": "Python 3.10.9 ('py310')",
   "language": "python",
   "name": "python3"
  },
  "language_info": {
   "codemirror_mode": {
    "name": "ipython",
    "version": 3
   },
   "file_extension": ".py",
   "mimetype": "text/x-python",
   "name": "python",
   "nbconvert_exporter": "python",
   "pygments_lexer": "ipython3",
   "version": "3.10.9"
  }
 },
 "nbformat": 4,
 "nbformat_minor": 2
}
