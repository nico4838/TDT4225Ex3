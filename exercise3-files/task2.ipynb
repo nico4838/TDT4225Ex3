{
 "cells": [
  {
   "cell_type": "code",
   "execution_count": 1,
   "metadata": {},
   "outputs": [],
   "source": [
    "from pprint import pprint\n",
    "from DbConnector import DbConnector"
   ]
  },
  {
   "cell_type": "code",
   "execution_count": 51,
   "metadata": {},
   "outputs": [],
   "source": [
    "class GeolifeQueries:\n",
    "\n",
    "    def __init__(self):\n",
    "        # Set up the database connection\n",
    "        self.connection = DbConnector()\n",
    "        self.client = self.connection.client\n",
    "        self.db = self.connection.db\n",
    "\n",
    "    def count_users_activities_trackpoints(self):\n",
    "        \"\"\"Task 1: Count users, activities, and trackpoints.\"\"\"\n",
    "        print(\"Task 1\")\n",
    "        num_users = self.db.User.count_documents({})\n",
    "        num_activities = self.db.Activity.count_documents({})\n",
    "        num_trackpoints = self.db.TrackPoint.count_documents({})\n",
    "        print(f\"Users: {num_users}, Activities: {num_activities}, Trackpoints: {num_trackpoints}\")\n",
    "\n",
    "    def average_activities_per_user(self):\n",
    "        \"\"\"Task 2: Find the average number of activities per user.\"\"\"\n",
    "        print(\"Task 2\")\n",
    "        num_activities = self.db.Activity.count_documents({})\n",
    "        num_users = self.db.User.count_documents({})\n",
    "        avg_activities = num_activities / num_users if num_users != 0 else 0\n",
    "        print(f\"Average activities per user: {avg_activities}\")\n",
    "\n",
    "    def top_20_users_by_activities(self):\n",
    "        \"\"\"Task 3: Find the top 20 users with the highest number of activities.\"\"\"\n",
    "        print(\"Task 3\")\n",
    "        pipeline = [\n",
    "            {\"$group\": {\"_id\": \"$user_id\", \"activity_count\": {\"$sum\": 1}}},\n",
    "            {\"$sort\": {\"activity_count\": -1}},\n",
    "            {\"$limit\": 20}\n",
    "        ]\n",
    "        top_users = self.db.Activity.aggregate(pipeline)\n",
    "        pprint(list(top_users))\n",
    "\n",
    "    def users_who_took_taxi(self):\n",
    "        \"\"\"Task 4: Find and print all users who have taken a taxi.\"\"\"\n",
    "        print(\"Task 4\")\n",
    "        \n",
    "        # Query to find documents where transportation_mode is \"taxi\"\n",
    "        documents = self.db.Activity.find({\"transportation_mode\": \"bus\"}, {\"user_id\": 1, \"_id\": 0})\n",
    "        \n",
    "        # Set to hold unique user IDs\n",
    "        taxi_users = set()\n",
    "        \n",
    "        # Loop through the documents and add user_ids to the set\n",
    "        for doc in documents:\n",
    "            taxi_users.add(doc[\"user_id\"])\n",
    "        \n",
    "        # Print the unique user_ids\n",
    "        pprint(taxi_users)\n",
    "\n",
    "    def count_transportation_modes(self):\n",
    "        \"\"\"Task 5: Count activities with each transportation mode.\"\"\"\n",
    "        print(\"Task 5\")\n",
    "        pipeline = [\n",
    "            {\"$match\": {\"transportation_mode\": {\"$ne\": None}}},\n",
    "            {\"$group\": {\"_id\": \"$transportation_mode\", \"count\": {\"$sum\": 1}}}\n",
    "        ]\n",
    "        transport_modes = self.db.Activity.aggregate(pipeline)\n",
    "        pprint(list(transport_modes))\n",
    "\n",
    "    def year_with_most_activities(self):\n",
    "        \"\"\"Task 6a: Find the year with the most activities.\"\"\"\n",
    "        print(\"Task 6a\")\n",
    "        pipeline = [\n",
    "            {\"$group\": {\"_id\": {\"$year\": \"$start_time\"}, \"activity_count\": {\"$sum\": 1}}},\n",
    "            {\"$sort\": {\"activity_count\": -1}},\n",
    "            {\"$limit\": 1}\n",
    "        ]\n",
    "        year = list(self.db.Activity.aggregate(pipeline))[0]\n",
    "        print(f\"Year with most activities: {year['_id']} ({year['activity_count']} activities)\")\n",
    "\n",
    "    def year_with_most_recorded_hours(self):\n",
    "        \"\"\"Task 6b: Find the year with the most recorded hours.\"\"\"\n",
    "        print(\"Task 6b\")\n",
    "        pipeline = [\n",
    "            {\"$project\": {\n",
    "                \"year\": {\"$year\": \"$start_time\"},\n",
    "                \"duration\": {\"$subtract\": [\"$end_time\", \"$start_time\"]}\n",
    "            }},\n",
    "            {\"$group\": {\"_id\": \"$year\", \"total_duration\": {\"$sum\": \"$duration\"}}},\n",
    "            {\"$sort\": {\"total_duration\": -1}},\n",
    "            {\"$limit\": 1}\n",
    "        ]\n",
    "        year = list(self.db.Activity.aggregate(pipeline))[0]\n",
    "        print(f\"Year with most recorded hours: {year['_id']}\")\n",
    "\n",
    "    def total_distance_walked_by_user_112_in_2008(self):\n",
    "        \"\"\"Task 7: Find the total distance walked by user 112 in 2008.\"\"\"\n",
    "        print(\"Task 7\")\n",
    "        user_id = 112\n",
    "        pipeline = [\n",
    "            {\"$match\": {\n",
    "                \"user_id\": user_id,\n",
    "                \"transportation_mode\": \"walk\",\n",
    "                \"$expr\": {\"$eq\": [{\"$year\": \"$start_time\"}, 2008]}\n",
    "            }},\n",
    "            {\"$group\": {\"_id\": None, \"total_distance\": {\"$sum\": \"$distance\"}}}\n",
    "        ]\n",
    "        total_distance = list(self.db.Activity.aggregate(pipeline))[0][\"total_distance\"]\n",
    "        print(f\"Total distance walked by user {user_id} in 2008: {total_distance} km\")\n",
    "\n",
    "    def top_20_users_by_altitude_gain(self):\n",
    "        \"\"\"Task 8: Find the top 20 users who have gained the most altitude.\"\"\"\n",
    "        print(\"Task 8\")\n",
    "        pipeline = [\n",
    "            {\"$unwind\": \"$trackpoints\"},\n",
    "            {\"$group\": {\n",
    "                \"_id\": \"$user_id\",\n",
    "                \"total_altitude_gain\": {\n",
    "                    \"$sum\": {\n",
    "                        \"$cond\": [\n",
    "                            {\"$gt\": [\"$trackpoints.altitude\", 0]},\n",
    "                            {\"$subtract\": [\"$trackpoints.altitude\", \"$$ROOT.trackpoints.prev_altitude\"]},\n",
    "                            0\n",
    "                        ]\n",
    "                    }\n",
    "                }\n",
    "            }},\n",
    "            {\"$sort\": {\"total_altitude_gain\": -1}},\n",
    "            {\"$limit\": 20}\n",
    "        ]\n",
    "        users = self.db.Activity.aggregate(pipeline)\n",
    "        pprint(list(users))\n",
    "\n",
    "    def users_with_invalid_activities(self):\n",
    "        \"\"\"Task 9: Find all users with invalid activities.\"\"\"\n",
    "        print(\"Task 9\")\n",
    "        pipeline = [\n",
    "            {\"$unwind\": \"$trackpoints\"},\n",
    "            {\"$group\": {\n",
    "                \"_id\": \"$user_id\",\n",
    "                \"invalid_activities_count\": {\"$sum\": {\n",
    "                    \"$cond\": [{\"$gt\": [\"$trackpoints.time_diff\", 300000]}, 1, 0]  # 5 minutes in milliseconds\n",
    "                }}\n",
    "            }},\n",
    "            {\"$match\": {\"invalid_activities_count\": {\"$gt\": 0}}}\n",
    "        ]\n",
    "        invalid_users = self.db.Activity.aggregate(pipeline)\n",
    "        pprint(list(invalid_users))\n",
    "\n",
    "    def users_in_forbidden_city(self):\n",
    "        \"\"\"Task 10: Find users who have tracked activity in the Forbidden City of Beijing.\"\"\"\n",
    "        print(\"Task 10\")\n",
    "        forbidden_city_coords = {\"lat\": 39.916, \"lon\": 116.397}\n",
    "        pipeline = [\n",
    "            {\"$unwind\": \"$trackpoints\"},\n",
    "            {\"$match\": {\n",
    "                \"trackpoints.latitude\": forbidden_city_coords[\"lat\"],\n",
    "                \"trackpoints.longitude\": forbidden_city_coords[\"lon\"]\n",
    "            }},\n",
    "            {\"$group\": {\"_id\": \"$user_id\"}}\n",
    "        ]\n",
    "        users = self.db.Activity.aggregate(pipeline)\n",
    "        pprint(list(users))\n",
    "\n",
    "    def most_used_transportation_mode_per_user(self):\n",
    "        \"\"\"Task 11: Find all users with registered transportation mode and their most used mode.\"\"\"\n",
    "        print(\"Task 11\")\n",
    "        pipeline = [\n",
    "            {\"$match\": {\"transportation_mode\": {\"$ne\": None}}},\n",
    "            {\"$group\": {\"_id\": {\"user_id\": \"$user_id\", \"mode\": \"$transportation_mode\"}, \"count\": {\"$sum\": 1}}},\n",
    "            {\"$sort\": {\"_id.user_id\": 1, \"count\": -1}},\n",
    "            {\"$group\": {\"_id\": \"$_id.user_id\", \"most_used_mode\": {\"$first\": \"$_id.mode\"}}}\n",
    "        ]\n",
    "        users_modes = self.db.Activity.aggregate(pipeline)\n",
    "        pprint(list(users_modes))\n",
    "\n",
    "    def close(self):\n",
    "        \"\"\"Close the database connection.\"\"\"\n",
    "        self.connection.close_connection()"
   ]
  },
  {
   "cell_type": "code",
   "execution_count": 53,
   "metadata": {},
   "outputs": [
    {
     "name": "stdout",
     "output_type": "stream",
     "text": [
      "You are connected to the database: my_db\n",
      "-----------------------------------------------\n",
      "\n"
     ]
    }
   ],
   "source": [
    "program = GeolifeQueries()"
   ]
  },
  {
   "cell_type": "code",
   "execution_count": 44,
   "metadata": {},
   "outputs": [
    {
     "name": "stdout",
     "output_type": "stream",
     "text": [
      "Task 1\n",
      "Users: 182, Activities: 16048, Trackpoints: 9681756\n",
      "Task 2\n",
      "Average activities per user: 88.17582417582418\n"
     ]
    }
   ],
   "source": [
    "program.count_users_activities_trackpoints()\n",
    "program.average_activities_per_user()"
   ]
  },
  {
   "cell_type": "code",
   "execution_count": 45,
   "metadata": {},
   "outputs": [
    {
     "name": "stdout",
     "output_type": "stream",
     "text": [
      "Task 3\n",
      "[{'_id': '128', 'activity_count': 2102},\n",
      " {'_id': '153', 'activity_count': 1793},\n",
      " {'_id': '025', 'activity_count': 715},\n",
      " {'_id': '163', 'activity_count': 704},\n",
      " {'_id': '062', 'activity_count': 691},\n",
      " {'_id': '144', 'activity_count': 563},\n",
      " {'_id': '041', 'activity_count': 399},\n",
      " {'_id': '085', 'activity_count': 364},\n",
      " {'_id': '004', 'activity_count': 346},\n",
      " {'_id': '140', 'activity_count': 345},\n",
      " {'_id': '167', 'activity_count': 320},\n",
      " {'_id': '068', 'activity_count': 280},\n",
      " {'_id': '017', 'activity_count': 265},\n",
      " {'_id': '003', 'activity_count': 261},\n",
      " {'_id': '014', 'activity_count': 236},\n",
      " {'_id': '126', 'activity_count': 215},\n",
      " {'_id': '030', 'activity_count': 210},\n",
      " {'_id': '112', 'activity_count': 208},\n",
      " {'_id': '011', 'activity_count': 201},\n",
      " {'_id': '039', 'activity_count': 198}]\n"
     ]
    }
   ],
   "source": [
    "program.top_20_users_by_activities()\n",
    "\n"
   ]
  },
  {
   "cell_type": "code",
   "execution_count": 54,
   "metadata": {},
   "outputs": [
    {
     "name": "stdout",
     "output_type": "stream",
     "text": [
      "Task 4\n",
      "set()\n"
     ]
    }
   ],
   "source": [
    "# Doesnt work as all transportation modes are ''\n",
    "program.users_who_took_taxi()\n"
   ]
  },
  {
   "cell_type": "code",
   "execution_count": 55,
   "metadata": {},
   "outputs": [
    {
     "name": "stdout",
     "output_type": "stream",
     "text": [
      "Task 5\n",
      "[{'_id': '', 'count': 16048}]\n"
     ]
    }
   ],
   "source": [
    "# Doesnt work as all transportation modes are ''\n",
    "program.count_transportation_modes()\n"
   ]
  },
  {
   "cell_type": "code",
   "execution_count": 56,
   "metadata": {},
   "outputs": [
    {
     "name": "stdout",
     "output_type": "stream",
     "text": [
      "Task 6a\n",
      "Year with most activities: None (16048 activities)\n"
     ]
    }
   ],
   "source": [
    "program.year_with_most_activities()\n"
   ]
  }
 ],
 "metadata": {
  "kernelspec": {
   "display_name": "base",
   "language": "python",
   "name": "python3"
  },
  "language_info": {
   "codemirror_mode": {
    "name": "ipython",
    "version": 3
   },
   "file_extension": ".py",
   "mimetype": "text/x-python",
   "name": "python",
   "nbconvert_exporter": "python",
   "pygments_lexer": "ipython3",
   "version": "3.11.8"
  }
 },
 "nbformat": 4,
 "nbformat_minor": 2
}
